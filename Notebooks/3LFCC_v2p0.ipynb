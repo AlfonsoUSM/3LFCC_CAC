{
 "cells": [
  {
   "cell_type": "markdown",
   "id": "efe19874",
   "metadata": {},
   "source": [
    "# Generation Automated High Voltage Transistors and 3LFCC topology implementation"
   ]
  },
  {
   "cell_type": "markdown",
   "id": "2c29018f",
   "metadata": {},
   "source": [
    "## Abstract\n",
    "Our project focuses on designing and implementing high voltage re-sizable transistors for a DC-DC buck converter demonstrator based on the three-level flying capacitor converter (3LFCC) architecture, a simple but versatile type of flyingcapacitor multi-level (FCML) converter, using the Skywater 130nm CMOS technology (SKY130). This notebook shows the main steps of the analog design flow, namely simulation, layout, verification and post-layout simulation of a single and both converter cores based on the requirements that the user has given as input.\n"
   ]
  },
  {
   "cell_type": "markdown",
   "id": "09e5623d",
   "metadata": {},
   "source": [
    "## 1. Introduction\n",
    "\n",
    "Recent development in miniaturization of satellites have led to the widespread of the CubeSat standard. These applications have serious volume and weight restrictions and could greatly benefit from fully-integrating DC-DC converters, as they tend to be bulky and heavy. Figure 1 shows the different converters stages in the electronic power system of a CubeSat, where versatile topologies like FCML could prove to be convenient. High current density, reversibility and small passive devices are some of the major challenges. \n",
    "\n",
    "</br>\n",
    "\n",
    "<div>\n",
    "<img src=\"Images/EPS_.png\" width=\"450\"/>\n",
    "</div>\n",
    "\n",
    "</br> \n",
    "\n",
    "<center>Figure 1: Typical electronic power system (EPS) architecture of a CubeSat</center>\n",
    "\n",
    "</br> \n",
    "\n",
    "\n",
    "Through this noteboook, it will be shown in simulation that a single converter core based on 3-L architecture can achieve high levels of efficiency at the targeted loads. It is worth noting that this simulation is considering an external passive filter and some inductances for representing the connections to the chip as such. The layout of the core is built using **.tcl** scripts. It is possible for the user to customize the flying capacitor depending on the desired operation frequency and output ripple."
   ]
  },
  {
   "cell_type": "markdown",
   "id": "bfffd972",
   "metadata": {},
   "source": [
    "## 2. Simulation\n",
    "\n",
    "By using Python, this notebook generates a SPICE file to characterize the transistor's gate capacitance $C_G$ and switching resistance $R_{ON}$ according to the multiplicity given by the user. With that data, using a table, it searches for the best switching frequency and output current accordingly, while also making a layout of the transistor waffle that matches the multiplicity and also the area estimation of the user as such."
   ]
  },
  {
   "cell_type": "markdown",
   "id": "b3dcd5db",
   "metadata": {},
   "source": [
    "### 2.1 Understanding user input\n",
    "\n",
    "The user just may give as input the desired multiplicity of the transistor and the area estimation/distribution for the cell."
   ]
  },
  {
   "cell_type": "code",
   "execution_count": null,
   "id": "4c286941",
   "metadata": {},
   "outputs": [],
   "source": []
  }
 ],
 "metadata": {
  "kernelspec": {
   "display_name": "Python 3 (ipykernel)",
   "language": "python",
   "name": "python3"
  },
  "language_info": {
   "codemirror_mode": {
    "name": "ipython",
    "version": 3
   },
   "file_extension": ".py",
   "mimetype": "text/x-python",
   "name": "python",
   "nbconvert_exporter": "python",
   "pygments_lexer": "ipython3",
   "version": "3.9.13"
  }
 },
 "nbformat": 4,
 "nbformat_minor": 5
}
